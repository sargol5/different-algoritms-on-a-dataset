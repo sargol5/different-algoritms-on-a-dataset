{
 "cells": [
  {
   "cell_type": "markdown",
   "id": "e7afe701",
   "metadata": {},
   "source": [
    "#  Product Classification"
   ]
  },
  {
   "cell_type": "markdown",
   "id": "08dee75d",
   "metadata": {},
   "source": [
    "## Data Loading and Preprocessing:"
   ]
  },
  {
   "cell_type": "markdown",
   "id": "86098f27",
   "metadata": {},
   "source": [
    "The original dataset has been split into two parts, i.e., training and testing data. With training data, you can construct your model and find the optimal parameters required by the algorithm. With testing data, you are about to evaluate the performance. To start with, please conduct the following tasks: 1- Load the original data, print out the exact number of instances and number of classes; 2- Properly handle missing values in the dataset, remove non-numerical class labels if there exists any, and filtering out rows with all zero values. 3- Randomly split the original data into two parts: 80% for training and 20% for testing."
   ]
  },
  {
   "cell_type": "markdown",
   "id": "87d66463",
   "metadata": {},
   "source": [
    "2.2 Algorithm Implementation:\n",
    "\n",
    "In this question, you will be developing the following 7 different predictive models with the help of sklearn.\n",
    "\n",
    "K-Nearest Neighbors;\n",
    "\n",
    "Linear Regression;\n",
    "\n",
    "Random Forest;\n",
    "\n",
    "Neural Network (Multi Layer Perceptron);\n",
    "\n",
    "Naive Bayes;\n",
    "\n",
    "AdaBoost;\n",
    "\n",
    "Linear SVM; \n",
    "\n",
    "You do not need to implement those algorithms from scratch. Instead, you can adopt the ready to use functions from the package, and document your methods carefully. Please note some system parameters may affect the performance of your predictors, e.g., the value of N in KNN, the number of trees in Random Forest, etc. You are free to examine different settings and identify the best parameters fit for the data."
   ]
  },
  {
   "cell_type": "code",
   "execution_count": 1,
   "id": "56f0112d",
   "metadata": {},
   "outputs": [],
   "source": [
    "#importing libraries\n",
    "import pandas as pd\n",
    "import numpy as np"
   ]
  },
  {
   "cell_type": "code",
   "execution_count": 2,
   "id": "54f37e7e",
   "metadata": {},
   "outputs": [],
   "source": [
    "#reading the dataset\n",
    "df=pd.read_csv('desktop/otto.csv')"
   ]
  },
  {
   "cell_type": "code",
   "execution_count": 3,
   "id": "30451716",
   "metadata": {},
   "outputs": [
    {
     "data": {
      "text/plain": [
       "(61878, 95)"
      ]
     },
     "execution_count": 3,
     "metadata": {},
     "output_type": "execute_result"
    }
   ],
   "source": [
    "#show number of culumns and number of rows\n",
    "df.shape"
   ]
  },
  {
   "cell_type": "code",
   "execution_count": 4,
   "id": "bbea0b8d",
   "metadata": {},
   "outputs": [
    {
     "data": {
      "text/html": [
       "<div>\n",
       "<style scoped>\n",
       "    .dataframe tbody tr th:only-of-type {\n",
       "        vertical-align: middle;\n",
       "    }\n",
       "\n",
       "    .dataframe tbody tr th {\n",
       "        vertical-align: top;\n",
       "    }\n",
       "\n",
       "    .dataframe thead th {\n",
       "        text-align: right;\n",
       "    }\n",
       "</style>\n",
       "<table border=\"1\" class=\"dataframe\">\n",
       "  <thead>\n",
       "    <tr style=\"text-align: right;\">\n",
       "      <th></th>\n",
       "      <th>id</th>\n",
       "      <th>feat_1</th>\n",
       "      <th>feat_2</th>\n",
       "      <th>feat_3</th>\n",
       "      <th>feat_4</th>\n",
       "      <th>feat_5</th>\n",
       "      <th>feat_6</th>\n",
       "      <th>feat_7</th>\n",
       "      <th>feat_8</th>\n",
       "      <th>feat_9</th>\n",
       "      <th>...</th>\n",
       "      <th>feat_85</th>\n",
       "      <th>feat_86</th>\n",
       "      <th>feat_87</th>\n",
       "      <th>feat_88</th>\n",
       "      <th>feat_89</th>\n",
       "      <th>feat_90</th>\n",
       "      <th>feat_91</th>\n",
       "      <th>feat_92</th>\n",
       "      <th>feat_93</th>\n",
       "      <th>target</th>\n",
       "    </tr>\n",
       "  </thead>\n",
       "  <tbody>\n",
       "    <tr>\n",
       "      <th>0</th>\n",
       "      <td>1</td>\n",
       "      <td>1</td>\n",
       "      <td>0</td>\n",
       "      <td>0</td>\n",
       "      <td>0</td>\n",
       "      <td>0</td>\n",
       "      <td>0</td>\n",
       "      <td>0</td>\n",
       "      <td>0</td>\n",
       "      <td>0</td>\n",
       "      <td>...</td>\n",
       "      <td>1</td>\n",
       "      <td>0</td>\n",
       "      <td>0</td>\n",
       "      <td>0</td>\n",
       "      <td>0</td>\n",
       "      <td>0</td>\n",
       "      <td>0</td>\n",
       "      <td>0</td>\n",
       "      <td>0</td>\n",
       "      <td>Class_1</td>\n",
       "    </tr>\n",
       "    <tr>\n",
       "      <th>1</th>\n",
       "      <td>2</td>\n",
       "      <td>0</td>\n",
       "      <td>0</td>\n",
       "      <td>0</td>\n",
       "      <td>0</td>\n",
       "      <td>0</td>\n",
       "      <td>0</td>\n",
       "      <td>0</td>\n",
       "      <td>1</td>\n",
       "      <td>0</td>\n",
       "      <td>...</td>\n",
       "      <td>0</td>\n",
       "      <td>0</td>\n",
       "      <td>0</td>\n",
       "      <td>0</td>\n",
       "      <td>0</td>\n",
       "      <td>0</td>\n",
       "      <td>0</td>\n",
       "      <td>0</td>\n",
       "      <td>0</td>\n",
       "      <td>Class_1</td>\n",
       "    </tr>\n",
       "    <tr>\n",
       "      <th>2</th>\n",
       "      <td>3</td>\n",
       "      <td>0</td>\n",
       "      <td>0</td>\n",
       "      <td>0</td>\n",
       "      <td>0</td>\n",
       "      <td>0</td>\n",
       "      <td>0</td>\n",
       "      <td>0</td>\n",
       "      <td>1</td>\n",
       "      <td>0</td>\n",
       "      <td>...</td>\n",
       "      <td>0</td>\n",
       "      <td>0</td>\n",
       "      <td>0</td>\n",
       "      <td>0</td>\n",
       "      <td>0</td>\n",
       "      <td>0</td>\n",
       "      <td>0</td>\n",
       "      <td>0</td>\n",
       "      <td>0</td>\n",
       "      <td>Class_1</td>\n",
       "    </tr>\n",
       "    <tr>\n",
       "      <th>3</th>\n",
       "      <td>4</td>\n",
       "      <td>1</td>\n",
       "      <td>0</td>\n",
       "      <td>0</td>\n",
       "      <td>1</td>\n",
       "      <td>6</td>\n",
       "      <td>1</td>\n",
       "      <td>5</td>\n",
       "      <td>0</td>\n",
       "      <td>0</td>\n",
       "      <td>...</td>\n",
       "      <td>0</td>\n",
       "      <td>1</td>\n",
       "      <td>2</td>\n",
       "      <td>0</td>\n",
       "      <td>0</td>\n",
       "      <td>0</td>\n",
       "      <td>0</td>\n",
       "      <td>0</td>\n",
       "      <td>0</td>\n",
       "      <td>Class_1</td>\n",
       "    </tr>\n",
       "    <tr>\n",
       "      <th>4</th>\n",
       "      <td>5</td>\n",
       "      <td>0</td>\n",
       "      <td>0</td>\n",
       "      <td>0</td>\n",
       "      <td>0</td>\n",
       "      <td>0</td>\n",
       "      <td>0</td>\n",
       "      <td>0</td>\n",
       "      <td>0</td>\n",
       "      <td>0</td>\n",
       "      <td>...</td>\n",
       "      <td>1</td>\n",
       "      <td>0</td>\n",
       "      <td>0</td>\n",
       "      <td>0</td>\n",
       "      <td>0</td>\n",
       "      <td>1</td>\n",
       "      <td>0</td>\n",
       "      <td>0</td>\n",
       "      <td>0</td>\n",
       "      <td>Class_1</td>\n",
       "    </tr>\n",
       "  </tbody>\n",
       "</table>\n",
       "<p>5 rows × 95 columns</p>\n",
       "</div>"
      ],
      "text/plain": [
       "   id  feat_1  feat_2  feat_3  feat_4  feat_5  feat_6  feat_7  feat_8  feat_9  \\\n",
       "0   1       1       0       0       0       0       0       0       0       0   \n",
       "1   2       0       0       0       0       0       0       0       1       0   \n",
       "2   3       0       0       0       0       0       0       0       1       0   \n",
       "3   4       1       0       0       1       6       1       5       0       0   \n",
       "4   5       0       0       0       0       0       0       0       0       0   \n",
       "\n",
       "   ...  feat_85  feat_86  feat_87  feat_88  feat_89  feat_90  feat_91  \\\n",
       "0  ...        1        0        0        0        0        0        0   \n",
       "1  ...        0        0        0        0        0        0        0   \n",
       "2  ...        0        0        0        0        0        0        0   \n",
       "3  ...        0        1        2        0        0        0        0   \n",
       "4  ...        1        0        0        0        0        1        0   \n",
       "\n",
       "   feat_92  feat_93   target  \n",
       "0        0        0  Class_1  \n",
       "1        0        0  Class_1  \n",
       "2        0        0  Class_1  \n",
       "3        0        0  Class_1  \n",
       "4        0        0  Class_1  \n",
       "\n",
       "[5 rows x 95 columns]"
      ]
     },
     "execution_count": 4,
     "metadata": {},
     "output_type": "execute_result"
    }
   ],
   "source": [
    "#show the first 5 rows of dataset\n",
    "df.head(5)"
   ]
  },
  {
   "cell_type": "code",
   "execution_count": 5,
   "id": "76d84e52",
   "metadata": {},
   "outputs": [],
   "source": [
    "#To filter out rows that contain zero values, you can use\n",
    "df2 = df.loc[(df != 0).all(axis=1), :]"
   ]
  },
  {
   "cell_type": "markdown",
   "id": "05a40c26",
   "metadata": {},
   "source": [
    "## K-Nearest Neighbors"
   ]
  },
  {
   "cell_type": "code",
   "execution_count": 6,
   "id": "3dbb76f1",
   "metadata": {},
   "outputs": [],
   "source": [
    "#convert target columns object to numerical values\n",
    "import pandas as pd\n",
    "import numpy as np\n",
    "df=pd.read_csv('desktop/otto.csv')\n",
    "num = {\"target\": {\"class_1\": 1, \"class_2\": 2, \"class_3\": 3,\"class_4\": 4,\"class_5\": 5,\"class_6\": 6,\"class_7\": 7,\"class_8\": 8,\"class_9\": 9}}\n",
    "df = df.replace(num)\n",
    "df[\"target\"] = df[\"target\"].astype('category')\n",
    "df[\"target\"] = df[\"target\"].cat.codes"
   ]
  },
  {
   "cell_type": "code",
   "execution_count": 7,
   "id": "d963c223",
   "metadata": {},
   "outputs": [],
   "source": [
    "df=df.drop(['id'],axis=1)"
   ]
  },
  {
   "cell_type": "code",
   "execution_count": 8,
   "id": "929abcfe",
   "metadata": {},
   "outputs": [],
   "source": [
    "#now prepare the model for the training and testing\n",
    "#df2 = df.loc[(df != 0).all(axis=1), :]\n",
    "y=df['target']\n",
    "x=df.drop(['target'],axis=1)\n",
    "from sklearn.model_selection import train_test_split\n",
    "x_train,x_test,y_train,y_test=train_test_split(x,y,random_state=0,test_size=0.2, stratify= y)"
   ]
  },
  {
   "cell_type": "code",
   "execution_count": 9,
   "id": "3dec2c6a",
   "metadata": {},
   "outputs": [
    {
     "data": {
      "text/plain": [
       "KNeighborsClassifier(n_neighbors=15, weights='distance')"
      ]
     },
     "execution_count": 9,
     "metadata": {},
     "output_type": "execute_result"
    }
   ],
   "source": [
    "# Import the K Neighbors classifier\n",
    "from sklearn.neighbors import KNeighborsClassifier\n",
    "# Create K Neighbor classifer objec\n",
    "classifier = KNeighborsClassifier(n_neighbors=15, weights='distance')\n",
    "# Train K Neighbor Classifer\n",
    "classifier.fit(x_train,y_train)"
   ]
  },
  {
   "cell_type": "code",
   "execution_count": 10,
   "id": "9b00ceeb",
   "metadata": {},
   "outputs": [
    {
     "data": {
      "text/html": [
       "<div>\n",
       "<style scoped>\n",
       "    .dataframe tbody tr th:only-of-type {\n",
       "        vertical-align: middle;\n",
       "    }\n",
       "\n",
       "    .dataframe tbody tr th {\n",
       "        vertical-align: top;\n",
       "    }\n",
       "\n",
       "    .dataframe thead th {\n",
       "        text-align: right;\n",
       "    }\n",
       "</style>\n",
       "<table border=\"1\" class=\"dataframe\">\n",
       "  <thead>\n",
       "    <tr style=\"text-align: right;\">\n",
       "      <th></th>\n",
       "      <th>0</th>\n",
       "      <th>target</th>\n",
       "    </tr>\n",
       "  </thead>\n",
       "  <tbody>\n",
       "    <tr>\n",
       "      <th>0</th>\n",
       "      <td>1.0</td>\n",
       "      <td>NaN</td>\n",
       "    </tr>\n",
       "    <tr>\n",
       "      <th>1</th>\n",
       "      <td>5.0</td>\n",
       "      <td>NaN</td>\n",
       "    </tr>\n",
       "    <tr>\n",
       "      <th>2</th>\n",
       "      <td>5.0</td>\n",
       "      <td>NaN</td>\n",
       "    </tr>\n",
       "    <tr>\n",
       "      <th>3</th>\n",
       "      <td>0.0</td>\n",
       "      <td>NaN</td>\n",
       "    </tr>\n",
       "    <tr>\n",
       "      <th>4</th>\n",
       "      <td>5.0</td>\n",
       "      <td>NaN</td>\n",
       "    </tr>\n",
       "    <tr>\n",
       "      <th>...</th>\n",
       "      <td>...</td>\n",
       "      <td>...</td>\n",
       "    </tr>\n",
       "    <tr>\n",
       "      <th>16415</th>\n",
       "      <td>NaN</td>\n",
       "      <td>1.0</td>\n",
       "    </tr>\n",
       "    <tr>\n",
       "      <th>57277</th>\n",
       "      <td>NaN</td>\n",
       "      <td>8.0</td>\n",
       "    </tr>\n",
       "    <tr>\n",
       "      <th>45612</th>\n",
       "      <td>NaN</td>\n",
       "      <td>5.0</td>\n",
       "    </tr>\n",
       "    <tr>\n",
       "      <th>34208</th>\n",
       "      <td>NaN</td>\n",
       "      <td>5.0</td>\n",
       "    </tr>\n",
       "    <tr>\n",
       "      <th>44108</th>\n",
       "      <td>NaN</td>\n",
       "      <td>5.0</td>\n",
       "    </tr>\n",
       "  </tbody>\n",
       "</table>\n",
       "<p>22240 rows × 2 columns</p>\n",
       "</div>"
      ],
      "text/plain": [
       "         0  target\n",
       "0      1.0     NaN\n",
       "1      5.0     NaN\n",
       "2      5.0     NaN\n",
       "3      0.0     NaN\n",
       "4      5.0     NaN\n",
       "...    ...     ...\n",
       "16415  NaN     1.0\n",
       "57277  NaN     8.0\n",
       "45612  NaN     5.0\n",
       "34208  NaN     5.0\n",
       "44108  NaN     5.0\n",
       "\n",
       "[22240 rows x 2 columns]"
      ]
     },
     "execution_count": 10,
     "metadata": {},
     "output_type": "execute_result"
    }
   ],
   "source": [
    "#Predict the response for test dataset\n",
    "df_y_pred = pd.Series(classifier.predict(x_test))\n",
    "pd.concat((df_y_pred,y_test), axis = 1)"
   ]
  },
  {
   "cell_type": "code",
   "execution_count": 11,
   "id": "f805ae2a",
   "metadata": {},
   "outputs": [
    {
     "name": "stdout",
     "output_type": "stream",
     "text": [
      "Confusion Matrix:\n",
      "[[ 184   13    3    0    4   21    9   56   96]\n",
      " [   2 2716  449   23    8    1   14    3    8]\n",
      " [   1  784  750   27    1    2   27    4    5]\n",
      " [   0  258  120  133    3   15    7    0    2]\n",
      " [   1   12    4    0  529    1    1    0    0]\n",
      " [  24   48    4    3    3 2612   42   42   49]\n",
      " [  23   80   45    4    5   25  343   37    6]\n",
      " [  36   27    8    0    1   36   20 1530   35]\n",
      " [  23   24    1    0    4   21    6   22  890]]\n",
      "Accuracy Score:\n"
     ]
    },
    {
     "data": {
      "text/plain": [
       "0.7827246283128636"
      ]
     },
     "execution_count": 11,
     "metadata": {},
     "output_type": "execute_result"
    }
   ],
   "source": [
    "#show the confusion matrix\n",
    "from sklearn.metrics import confusion_matrix, accuracy_score, classification_report\n",
    "cm = confusion_matrix(y_test,df_y_pred)\n",
    "print('Confusion Matrix:')\n",
    "print(cm)\n",
    "print('Accuracy Score:')\n",
    "accuracy_score(y_test,df_y_pred)"
   ]
  },
  {
   "cell_type": "code",
   "execution_count": 12,
   "id": "ec9d942f",
   "metadata": {},
   "outputs": [
    {
     "name": "stdout",
     "output_type": "stream",
     "text": [
      "F1 for K-Nearest Neighbors is:  0.7740390020228105\n"
     ]
    }
   ],
   "source": [
    "#show F1 Score\n",
    "from sklearn.metrics import f1_score\n",
    "print('F1 for K-Nearest Neighbors is: ', f1_score(y_test, df_y_pred,average=\"weighted\"))"
   ]
  },
  {
   "cell_type": "code",
   "execution_count": 13,
   "id": "d0ec38f1",
   "metadata": {},
   "outputs": [],
   "source": [
    "df_KNN=df_y_pred"
   ]
  },
  {
   "cell_type": "markdown",
   "id": "600efbc3",
   "metadata": {},
   "source": [
    "# linear regression"
   ]
  },
  {
   "cell_type": "code",
   "execution_count": 14,
   "id": "961509e8",
   "metadata": {},
   "outputs": [
    {
     "name": "stderr",
     "output_type": "stream",
     "text": [
      "/Users/sara/opt/anaconda3/lib/python3.9/site-packages/sklearn/linear_model/_sag.py:328: ConvergenceWarning: The max_iter was reached which means the coef_ did not converge\n",
      "  warnings.warn(\"The max_iter was reached which means \"\n"
     ]
    },
    {
     "data": {
      "text/plain": [
       "LogisticRegression(C=1, l1_ratio=0.3, max_iter=500, penalty='elasticnet',\n",
       "                   random_state=0, solver='saga', warm_start=True)"
      ]
     },
     "execution_count": 14,
     "metadata": {},
     "output_type": "execute_result"
    }
   ],
   "source": [
    "# Import the Linear Regression classifier\n",
    "from sklearn.linear_model import LogisticRegression\n",
    "# Create Linear Regression classifer object\n",
    "classifier = LogisticRegression(solver = 'saga',warm_start = True, l1_ratio=0.3, penalty = 'elasticnet',C=1,random_state = 0,max_iter = 500)\n",
    "# Train Random forest Classifer\n",
    "classifier.fit(x_train,y_train)"
   ]
  },
  {
   "cell_type": "code",
   "execution_count": 15,
   "id": "60bca969",
   "metadata": {},
   "outputs": [
    {
     "data": {
      "text/html": [
       "<div>\n",
       "<style scoped>\n",
       "    .dataframe tbody tr th:only-of-type {\n",
       "        vertical-align: middle;\n",
       "    }\n",
       "\n",
       "    .dataframe tbody tr th {\n",
       "        vertical-align: top;\n",
       "    }\n",
       "\n",
       "    .dataframe thead th {\n",
       "        text-align: right;\n",
       "    }\n",
       "</style>\n",
       "<table border=\"1\" class=\"dataframe\">\n",
       "  <thead>\n",
       "    <tr style=\"text-align: right;\">\n",
       "      <th></th>\n",
       "      <th>0</th>\n",
       "      <th>target</th>\n",
       "    </tr>\n",
       "  </thead>\n",
       "  <tbody>\n",
       "    <tr>\n",
       "      <th>0</th>\n",
       "      <td>1.0</td>\n",
       "      <td>NaN</td>\n",
       "    </tr>\n",
       "    <tr>\n",
       "      <th>1</th>\n",
       "      <td>5.0</td>\n",
       "      <td>NaN</td>\n",
       "    </tr>\n",
       "    <tr>\n",
       "      <th>2</th>\n",
       "      <td>5.0</td>\n",
       "      <td>NaN</td>\n",
       "    </tr>\n",
       "    <tr>\n",
       "      <th>3</th>\n",
       "      <td>5.0</td>\n",
       "      <td>NaN</td>\n",
       "    </tr>\n",
       "    <tr>\n",
       "      <th>4</th>\n",
       "      <td>5.0</td>\n",
       "      <td>NaN</td>\n",
       "    </tr>\n",
       "    <tr>\n",
       "      <th>...</th>\n",
       "      <td>...</td>\n",
       "      <td>...</td>\n",
       "    </tr>\n",
       "    <tr>\n",
       "      <th>16415</th>\n",
       "      <td>NaN</td>\n",
       "      <td>1.0</td>\n",
       "    </tr>\n",
       "    <tr>\n",
       "      <th>57277</th>\n",
       "      <td>NaN</td>\n",
       "      <td>8.0</td>\n",
       "    </tr>\n",
       "    <tr>\n",
       "      <th>45612</th>\n",
       "      <td>NaN</td>\n",
       "      <td>5.0</td>\n",
       "    </tr>\n",
       "    <tr>\n",
       "      <th>34208</th>\n",
       "      <td>NaN</td>\n",
       "      <td>5.0</td>\n",
       "    </tr>\n",
       "    <tr>\n",
       "      <th>44108</th>\n",
       "      <td>NaN</td>\n",
       "      <td>5.0</td>\n",
       "    </tr>\n",
       "  </tbody>\n",
       "</table>\n",
       "<p>22240 rows × 2 columns</p>\n",
       "</div>"
      ],
      "text/plain": [
       "         0  target\n",
       "0      1.0     NaN\n",
       "1      5.0     NaN\n",
       "2      5.0     NaN\n",
       "3      5.0     NaN\n",
       "4      5.0     NaN\n",
       "...    ...     ...\n",
       "16415  NaN     1.0\n",
       "57277  NaN     8.0\n",
       "45612  NaN     5.0\n",
       "34208  NaN     5.0\n",
       "44108  NaN     5.0\n",
       "\n",
       "[22240 rows x 2 columns]"
      ]
     },
     "execution_count": 15,
     "metadata": {},
     "output_type": "execute_result"
    }
   ],
   "source": [
    "#Predict the response for test dataset\n",
    "df_y_pred = pd.Series(classifier.predict(x_test))\n",
    "pd.concat((df_y_pred,y_test), axis = 1)"
   ]
  },
  {
   "cell_type": "code",
   "execution_count": 16,
   "id": "5215ee86",
   "metadata": {},
   "outputs": [
    {
     "name": "stdout",
     "output_type": "stream",
     "text": [
      "Confusion Matrix:\n",
      "[[ 145   17    0    0    2   35   13   84   90]\n",
      " [   2 2836  308   34   11    5   15    6    7]\n",
      " [   0 1048  485   19    0    3   38    7    1]\n",
      " [   0  288   27  186    1   25    9    1    1]\n",
      " [   0   37    1    0  510    0    0    0    0]\n",
      " [   4   27    3   14    1 2622   37   64   55]\n",
      " [  13   83   41    8    3   73  308   35    4]\n",
      " [  39   19    4    0    0   49   23 1533   26]\n",
      " [  26   16    0    0    2   34    2   45  866]]\n",
      "Accuracy Score:\n"
     ]
    },
    {
     "data": {
      "text/plain": [
       "0.7668875242404655"
      ]
     },
     "execution_count": 16,
     "metadata": {},
     "output_type": "execute_result"
    }
   ],
   "source": [
    "#Show the Confusion Matrix\n",
    "from sklearn.metrics import confusion_matrix, accuracy_score, classification_report\n",
    "cm = confusion_matrix(y_test,df_y_pred)\n",
    "print('Confusion Matrix:')\n",
    "print(cm)\n",
    "print('Accuracy Score:')\n",
    "accuracy_score(y_test,df_y_pred)"
   ]
  },
  {
   "cell_type": "code",
   "execution_count": 17,
   "id": "c04325c9",
   "metadata": {},
   "outputs": [
    {
     "name": "stdout",
     "output_type": "stream",
     "text": [
      "F1 for Linear Regression is:  0.750144559579084\n"
     ]
    }
   ],
   "source": [
    "#Show the F1 Score\n",
    "from sklearn.metrics import f1_score\n",
    "print('F1 for Linear Regression is: ', f1_score(y_test, df_y_pred,average=\"weighted\"))"
   ]
  },
  {
   "cell_type": "code",
   "execution_count": 18,
   "id": "543fe47b",
   "metadata": {},
   "outputs": [],
   "source": [
    "df_LR=df_y_pred"
   ]
  },
  {
   "cell_type": "markdown",
   "id": "d20d65fb",
   "metadata": {},
   "source": [
    "# Random Forest"
   ]
  },
  {
   "cell_type": "code",
   "execution_count": 19,
   "id": "9f788298",
   "metadata": {},
   "outputs": [
    {
     "data": {
      "text/plain": [
       "RandomForestClassifier(criterion='entropy', n_estimators=35, random_state=0)"
      ]
     },
     "execution_count": 19,
     "metadata": {},
     "output_type": "execute_result"
    }
   ],
   "source": [
    "# Import the Random Forest classifier\n",
    "from sklearn.ensemble import RandomForestClassifier\n",
    "# Create Random forest classifer object\n",
    "classifier = RandomForestClassifier(n_estimators = 35, criterion = 'entropy', random_state = 0)\n",
    "# Train Random forest Classifer\n",
    "classifier.fit(x_train,y_train)"
   ]
  },
  {
   "cell_type": "code",
   "execution_count": 20,
   "id": "cb6d3e33",
   "metadata": {},
   "outputs": [
    {
     "data": {
      "text/html": [
       "<div>\n",
       "<style scoped>\n",
       "    .dataframe tbody tr th:only-of-type {\n",
       "        vertical-align: middle;\n",
       "    }\n",
       "\n",
       "    .dataframe tbody tr th {\n",
       "        vertical-align: top;\n",
       "    }\n",
       "\n",
       "    .dataframe thead th {\n",
       "        text-align: right;\n",
       "    }\n",
       "</style>\n",
       "<table border=\"1\" class=\"dataframe\">\n",
       "  <thead>\n",
       "    <tr style=\"text-align: right;\">\n",
       "      <th></th>\n",
       "      <th>0</th>\n",
       "      <th>target</th>\n",
       "    </tr>\n",
       "  </thead>\n",
       "  <tbody>\n",
       "    <tr>\n",
       "      <th>0</th>\n",
       "      <td>1.0</td>\n",
       "      <td>NaN</td>\n",
       "    </tr>\n",
       "    <tr>\n",
       "      <th>1</th>\n",
       "      <td>5.0</td>\n",
       "      <td>NaN</td>\n",
       "    </tr>\n",
       "    <tr>\n",
       "      <th>2</th>\n",
       "      <td>5.0</td>\n",
       "      <td>NaN</td>\n",
       "    </tr>\n",
       "    <tr>\n",
       "      <th>3</th>\n",
       "      <td>5.0</td>\n",
       "      <td>NaN</td>\n",
       "    </tr>\n",
       "    <tr>\n",
       "      <th>4</th>\n",
       "      <td>5.0</td>\n",
       "      <td>NaN</td>\n",
       "    </tr>\n",
       "    <tr>\n",
       "      <th>...</th>\n",
       "      <td>...</td>\n",
       "      <td>...</td>\n",
       "    </tr>\n",
       "    <tr>\n",
       "      <th>16415</th>\n",
       "      <td>NaN</td>\n",
       "      <td>1.0</td>\n",
       "    </tr>\n",
       "    <tr>\n",
       "      <th>57277</th>\n",
       "      <td>NaN</td>\n",
       "      <td>8.0</td>\n",
       "    </tr>\n",
       "    <tr>\n",
       "      <th>45612</th>\n",
       "      <td>NaN</td>\n",
       "      <td>5.0</td>\n",
       "    </tr>\n",
       "    <tr>\n",
       "      <th>34208</th>\n",
       "      <td>NaN</td>\n",
       "      <td>5.0</td>\n",
       "    </tr>\n",
       "    <tr>\n",
       "      <th>44108</th>\n",
       "      <td>NaN</td>\n",
       "      <td>5.0</td>\n",
       "    </tr>\n",
       "  </tbody>\n",
       "</table>\n",
       "<p>22240 rows × 2 columns</p>\n",
       "</div>"
      ],
      "text/plain": [
       "         0  target\n",
       "0      1.0     NaN\n",
       "1      5.0     NaN\n",
       "2      5.0     NaN\n",
       "3      5.0     NaN\n",
       "4      5.0     NaN\n",
       "...    ...     ...\n",
       "16415  NaN     1.0\n",
       "57277  NaN     8.0\n",
       "45612  NaN     5.0\n",
       "34208  NaN     5.0\n",
       "44108  NaN     5.0\n",
       "\n",
       "[22240 rows x 2 columns]"
      ]
     },
     "execution_count": 20,
     "metadata": {},
     "output_type": "execute_result"
    }
   ],
   "source": [
    "#Predict the response for test dataset\n",
    "df_y_pred = pd.Series(classifier.predict(x_test))\n",
    "pd.concat((df_y_pred,y_test),axis = 1)"
   ]
  },
  {
   "cell_type": "code",
   "execution_count": 21,
   "id": "162ec422",
   "metadata": {},
   "outputs": [
    {
     "name": "stdout",
     "output_type": "stream",
     "text": [
      "Confusion Matrix:\n",
      "[[ 143   12    3    0    3   42    9   88   86]\n",
      " [   0 2847  317   27    5    7   11    5    5]\n",
      " [   1  796  749   25    0    0   19    7    4]\n",
      " [   0  222   75  216    2   21    1    1    0]\n",
      " [   1   18    0    0  524    2    1    0    2]\n",
      " [   9   29    3    3    1 2689   24   41   28]\n",
      " [   5   93   37    5    7   46  307   60    8]\n",
      " [  21   13    3    0    1   62    6 1560   27]\n",
      " [  17   17    0    1    2   36    5   38  875]]\n",
      "Accuracy Score:\n"
     ]
    },
    {
     "data": {
      "text/plain": [
       "0.8007433742727861"
      ]
     },
     "execution_count": 21,
     "metadata": {},
     "output_type": "execute_result"
    }
   ],
   "source": [
    "#Show the Confusion Matrix\n",
    "from sklearn.metrics import confusion_matrix, accuracy_score, classification_report\n",
    "cm = confusion_matrix(y_test, df_y_pred)\n",
    "print('Confusion Matrix:')\n",
    "print(cm)\n",
    "print('Accuracy Score:')\n",
    "accuracy_score(y_test,df_y_pred)"
   ]
  },
  {
   "cell_type": "code",
   "execution_count": 22,
   "id": "d5d6eb67",
   "metadata": {},
   "outputs": [
    {
     "name": "stdout",
     "output_type": "stream",
     "text": [
      "F1 for Random Forest is:  0.7896154813908827\n"
     ]
    }
   ],
   "source": [
    "#Show the F1 Score\n",
    "from sklearn.metrics import f1_score\n",
    "print('F1 for Random Forest is: ', f1_score(y_test, df_y_pred,average=\"weighted\"))"
   ]
  },
  {
   "cell_type": "code",
   "execution_count": 23,
   "id": "f170eb00",
   "metadata": {},
   "outputs": [],
   "source": [
    "df_RF=df_y_pred"
   ]
  },
  {
   "cell_type": "markdown",
   "id": "fd94f8be",
   "metadata": {},
   "source": [
    "## Neural Network (Multi Layer Perceptron);"
   ]
  },
  {
   "cell_type": "code",
   "execution_count": 24,
   "id": "89f97685",
   "metadata": {},
   "outputs": [],
   "source": [
    "# Import the Neural Network classifier\n",
    "from patsy import dmatrices\n",
    "from sklearn.neural_network import MLPClassifier\n",
    "from sklearn import metrics"
   ]
  },
  {
   "cell_type": "code",
   "execution_count": 25,
   "id": "9d097d81",
   "metadata": {},
   "outputs": [
    {
     "name": "stdout",
     "output_type": "stream",
     "text": [
      "RUNNING THE L-BFGS-B CODE\n",
      "\n",
      "           * * *\n",
      "\n",
      "Machine precision = 2.220D-16\n",
      " N =         3199     M =           10\n",
      "\n",
      "At X0         0 variables are exactly at the bounds\n",
      "\n",
      "At iterate    0    f=  2.87201D+00    |proj g|=  5.85780D-01\n",
      "\n",
      "At iterate    1    f=  1.95240D+00    |proj g|=  1.82910D-01\n"
     ]
    },
    {
     "name": "stderr",
     "output_type": "stream",
     "text": [
      " This problem is unconstrained.\n"
     ]
    },
    {
     "name": "stdout",
     "output_type": "stream",
     "text": [
      "\n",
      "At iterate    2    f=  1.75290D+00    |proj g|=  1.75059D-01\n",
      "\n",
      "At iterate    3    f=  1.61369D+00    |proj g|=  8.31734D-01\n",
      "\n",
      "At iterate    4    f=  1.45253D+00    |proj g|=  1.23863D-01\n",
      "\n",
      "At iterate    5    f=  1.39215D+00    |proj g|=  1.08555D-01\n",
      "\n",
      "At iterate    6    f=  1.26454D+00    |proj g|=  6.12236D-01\n",
      "\n",
      "At iterate    7    f=  1.20959D+00    |proj g|=  2.54741D-01\n",
      "\n",
      "At iterate    8    f=  1.16802D+00    |proj g|=  1.77814D-01\n",
      "\n",
      "At iterate    9    f=  1.09035D+00    |proj g|=  1.82182D-01\n",
      "\n",
      "At iterate   10    f=  1.04452D+00    |proj g|=  1.83355D-01\n",
      "\n",
      "At iterate   11    f=  1.00670D+00    |proj g|=  1.71308D-01\n",
      "\n",
      "At iterate   12    f=  9.81394D-01    |proj g|=  6.86087D-01\n",
      "\n",
      "At iterate   13    f=  9.56999D-01    |proj g|=  5.62877D-01\n",
      "\n",
      "At iterate   14    f=  9.40874D-01    |proj g|=  8.89524D-02\n",
      "\n",
      "At iterate   15    f=  9.31600D-01    |proj g|=  4.77893D-02\n",
      "\n",
      "At iterate   16    f=  8.98996D-01    |proj g|=  1.01564D-01\n",
      "\n",
      "At iterate   17    f=  8.77405D-01    |proj g|=  2.50583D-01\n",
      "\n",
      "At iterate   18    f=  8.48153D-01    |proj g|=  1.04326D-01\n",
      "\n",
      "At iterate   19    f=  8.33336D-01    |proj g|=  6.59486D-02\n",
      "\n",
      "At iterate   20    f=  8.05455D-01    |proj g|=  7.29159D-02\n",
      "\n",
      "At iterate   21    f=  7.92416D-01    |proj g|=  1.28123D-01\n",
      "\n",
      "At iterate   22    f=  7.86074D-01    |proj g|=  2.73501D-02\n",
      "\n",
      "At iterate   23    f=  7.77902D-01    |proj g|=  1.10156D-01\n",
      "\n",
      "At iterate   24    f=  7.71155D-01    |proj g|=  8.27007D-02\n",
      "\n",
      "At iterate   25    f=  7.61759D-01    |proj g|=  3.17290D-01\n",
      "\n",
      "At iterate   26    f=  7.50802D-01    |proj g|=  6.82373D-02\n",
      "\n",
      "At iterate   27    f=  7.47772D-01    |proj g|=  3.66941D-02\n",
      "\n",
      "At iterate   28    f=  7.44822D-01    |proj g|=  4.35307D-02\n",
      "\n",
      "At iterate   29    f=  7.36055D-01    |proj g|=  9.68368D-02\n",
      "\n",
      "At iterate   30    f=  7.29190D-01    |proj g|=  6.39087D-02\n",
      "\n",
      "At iterate   31    f=  7.24472D-01    |proj g|=  3.68071D-02\n",
      "\n",
      "At iterate   32    f=  7.16243D-01    |proj g|=  5.03414D-02\n",
      "\n",
      "At iterate   33    f=  7.10174D-01    |proj g|=  2.89957D-02\n",
      "\n",
      "At iterate   34    f=  7.05576D-01    |proj g|=  7.99565D-02\n",
      "\n",
      "At iterate   35    f=  7.00072D-01    |proj g|=  2.63288D-02\n",
      "\n",
      "At iterate   36    f=  6.96949D-01    |proj g|=  4.67951D-02\n",
      "\n",
      "At iterate   37    f=  6.92177D-01    |proj g|=  2.14417D-01\n",
      "\n",
      "At iterate   38    f=  6.89655D-01    |proj g|=  6.71164D-02\n",
      "\n",
      "At iterate   39    f=  6.87562D-01    |proj g|=  2.01823D-02\n",
      "\n",
      "At iterate   40    f=  6.86010D-01    |proj g|=  2.20889D-02\n",
      "\n",
      "At iterate   41    f=  6.82715D-01    |proj g|=  3.70418D-02\n",
      "\n",
      "At iterate   42    f=  6.78113D-01    |proj g|=  2.76434D-02\n",
      "\n",
      "At iterate   43    f=  6.73899D-01    |proj g|=  4.88316D-02\n",
      "\n",
      "At iterate   44    f=  6.70569D-01    |proj g|=  3.29872D-02\n",
      "\n",
      "At iterate   45    f=  6.65296D-01    |proj g|=  3.83789D-02\n",
      "\n",
      "At iterate   46    f=  6.60281D-01    |proj g|=  2.85360D-02\n",
      "\n",
      "At iterate   47    f=  6.56561D-01    |proj g|=  2.10694D-02\n",
      "\n",
      "At iterate   48    f=  6.51445D-01    |proj g|=  9.97007D-02\n",
      "\n",
      "At iterate   49    f=  6.49673D-01    |proj g|=  4.63248D-02\n",
      "\n",
      "At iterate   50    f=  6.48066D-01    |proj g|=  3.24269D-02\n",
      "\n",
      "At iterate   51    f=  6.46043D-01    |proj g|=  1.85774D-02\n",
      "\n",
      "At iterate   52    f=  6.43828D-01    |proj g|=  3.96117D-02\n",
      "\n",
      "At iterate   53    f=  6.41522D-01    |proj g|=  2.43878D-02\n",
      "\n",
      "At iterate   54    f=  6.39163D-01    |proj g|=  2.25387D-02\n",
      "\n",
      "At iterate   55    f=  6.35646D-01    |proj g|=  2.34556D-02\n",
      "\n",
      "At iterate   56    f=  6.33945D-01    |proj g|=  4.24750D-02\n",
      "\n",
      "At iterate   57    f=  6.31935D-01    |proj g|=  2.62490D-02\n",
      "\n",
      "At iterate   58    f=  6.28217D-01    |proj g|=  2.23739D-02\n",
      "\n",
      "At iterate   59    f=  6.25680D-01    |proj g|=  2.78096D-02\n",
      "\n",
      "At iterate   60    f=  6.24841D-01    |proj g|=  7.08956D-02\n",
      "\n",
      "At iterate   61    f=  6.23796D-01    |proj g|=  4.46202D-02\n",
      "\n",
      "At iterate   62    f=  6.22147D-01    |proj g|=  2.70368D-02\n",
      "\n",
      "At iterate   63    f=  6.19991D-01    |proj g|=  2.47434D-02\n",
      "\n",
      "At iterate   64    f=  6.17539D-01    |proj g|=  2.51378D-02\n",
      "\n",
      "At iterate   65    f=  6.16268D-01    |proj g|=  9.60359D-02\n",
      "\n",
      "At iterate   66    f=  6.12846D-01    |proj g|=  2.71441D-02\n",
      "\n",
      "At iterate   67    f=  6.11345D-01    |proj g|=  2.33625D-02\n",
      "\n",
      "At iterate   68    f=  6.09546D-01    |proj g|=  2.45871D-02\n",
      "\n",
      "At iterate   69    f=  6.07752D-01    |proj g|=  2.51865D-02\n",
      "\n",
      "At iterate   70    f=  6.05511D-01    |proj g|=  1.73752D-02\n",
      "\n",
      "At iterate   71    f=  6.02192D-01    |proj g|=  5.17893D-02\n",
      "\n",
      "At iterate   72    f=  6.01776D-01    |proj g|=  3.05207D-02\n",
      "\n",
      "At iterate   73    f=  6.01100D-01    |proj g|=  2.41285D-02\n",
      "\n",
      "At iterate   74    f=  5.98927D-01    |proj g|=  1.52626D-02\n",
      "\n",
      "At iterate   75    f=  5.95985D-01    |proj g|=  1.39449D-02\n",
      "\n",
      "At iterate   76    f=  5.92881D-01    |proj g|=  3.69033D-02\n",
      "\n",
      "At iterate   77    f=  5.91061D-01    |proj g|=  5.84938D-02\n",
      "\n",
      "At iterate   78    f=  5.89547D-01    |proj g|=  1.06729D-02\n",
      "\n",
      "At iterate   79    f=  5.88849D-01    |proj g|=  1.16968D-02\n",
      "\n",
      "At iterate   80    f=  5.86684D-01    |proj g|=  1.78283D-02\n",
      "\n",
      "At iterate   81    f=  5.84516D-01    |proj g|=  2.33735D-02\n",
      "\n",
      "At iterate   82    f=  5.82668D-01    |proj g|=  1.23449D-02\n",
      "\n",
      "At iterate   83    f=  5.81970D-01    |proj g|=  1.19734D-01\n",
      "\n",
      "At iterate   84    f=  5.80888D-01    |proj g|=  1.26417D-02\n",
      "\n",
      "At iterate   85    f=  5.80466D-01    |proj g|=  9.43697D-03\n",
      "\n",
      "At iterate   86    f=  5.79113D-01    |proj g|=  2.44782D-02\n",
      "\n",
      "At iterate   87    f=  5.77764D-01    |proj g|=  2.71430D-02\n",
      "\n",
      "At iterate   88    f=  5.76104D-01    |proj g|=  2.32808D-02\n",
      "\n",
      "At iterate   89    f=  5.75167D-01    |proj g|=  5.47127D-02\n",
      "\n",
      "At iterate   90    f=  5.73897D-01    |proj g|=  3.35925D-02\n",
      "\n",
      "At iterate   91    f=  5.72708D-01    |proj g|=  2.61251D-02\n",
      "\n",
      "At iterate   92    f=  5.71626D-01    |proj g|=  3.45489D-02\n",
      "\n",
      "At iterate   93    f=  5.69641D-01    |proj g|=  2.18696D-02\n",
      "\n",
      "At iterate   94    f=  5.68249D-01    |proj g|=  1.22253D-02\n",
      "\n",
      "At iterate   95    f=  5.67217D-01    |proj g|=  2.36500D-02\n",
      "\n",
      "At iterate   96    f=  5.66941D-01    |proj g|=  1.18755D-01\n",
      "\n",
      "At iterate   97    f=  5.65737D-01    |proj g|=  1.64220D-02\n",
      "\n",
      "At iterate   98    f=  5.65536D-01    |proj g|=  1.04039D-02\n",
      "\n",
      "At iterate   99    f=  5.64983D-01    |proj g|=  1.81328D-02\n",
      "\n",
      "At iterate  100    f=  5.64238D-01    |proj g|=  2.71248D-02\n",
      "\n",
      "At iterate  101    f=  5.63114D-01    |proj g|=  1.81861D-02\n",
      "\n",
      "At iterate  102    f=  5.62431D-01    |proj g|=  3.64525D-02\n",
      "\n",
      "At iterate  103    f=  5.61520D-01    |proj g|=  1.32287D-02\n",
      "\n",
      "At iterate  104    f=  5.60400D-01    |proj g|=  1.46671D-02\n",
      "\n",
      "At iterate  105    f=  5.59517D-01    |proj g|=  2.56491D-02\n",
      "\n",
      "At iterate  106    f=  5.58450D-01    |proj g|=  1.41997D-02\n",
      "\n",
      "At iterate  107    f=  5.57420D-01    |proj g|=  4.07198D-02\n",
      "\n",
      "At iterate  108    f=  5.56836D-01    |proj g|=  3.12366D-02\n",
      "\n",
      "At iterate  109    f=  5.56416D-01    |proj g|=  2.97232D-02\n",
      "\n",
      "At iterate  110    f=  5.55296D-01    |proj g|=  1.63568D-02\n",
      "\n",
      "At iterate  111    f=  5.54415D-01    |proj g|=  1.31239D-02\n",
      "\n",
      "At iterate  112    f=  5.53185D-01    |proj g|=  1.14160D-02\n",
      "\n",
      "At iterate  113    f=  5.52229D-01    |proj g|=  3.55198D-02\n",
      "\n",
      "At iterate  114    f=  5.51298D-01    |proj g|=  1.31441D-02\n",
      "\n",
      "At iterate  115    f=  5.50645D-01    |proj g|=  1.59429D-02\n",
      "\n",
      "At iterate  116    f=  5.49971D-01    |proj g|=  1.69907D-02\n",
      "\n",
      "At iterate  117    f=  5.48885D-01    |proj g|=  1.84651D-02\n",
      "\n",
      "At iterate  118    f=  5.47795D-01    |proj g|=  1.55515D-02\n",
      "\n",
      "At iterate  119    f=  5.47490D-01    |proj g|=  3.76659D-02\n",
      "\n",
      "At iterate  120    f=  5.46542D-01    |proj g|=  2.73484D-02\n",
      "\n",
      "At iterate  121    f=  5.45707D-01    |proj g|=  1.75552D-02\n",
      "\n",
      "At iterate  122    f=  5.45038D-01    |proj g|=  9.32230D-03\n",
      "\n",
      "At iterate  123    f=  5.43927D-01    |proj g|=  1.14271D-02\n",
      "\n",
      "At iterate  124    f=  5.43713D-01    |proj g|=  4.09945D-02\n",
      "\n",
      "At iterate  125    f=  5.42597D-01    |proj g|=  1.60714D-02\n",
      "\n",
      "At iterate  126    f=  5.42215D-01    |proj g|=  1.36362D-02\n",
      "\n",
      "At iterate  127    f=  5.41594D-01    |proj g|=  2.11908D-02\n",
      "\n",
      "At iterate  128    f=  5.40848D-01    |proj g|=  5.49794D-02\n",
      "\n",
      "At iterate  129    f=  5.40035D-01    |proj g|=  2.12791D-02\n",
      "\n",
      "At iterate  130    f=  5.39475D-01    |proj g|=  8.33159D-03\n",
      "\n",
      "At iterate  131    f=  5.39041D-01    |proj g|=  3.46629D-02\n",
      "\n",
      "At iterate  132    f=  5.38459D-01    |proj g|=  3.16448D-02\n",
      "\n",
      "At iterate  133    f=  5.37868D-01    |proj g|=  2.79510D-02\n",
      "\n",
      "At iterate  134    f=  5.36499D-01    |proj g|=  1.57521D-02\n",
      "\n",
      "At iterate  135    f=  5.35558D-01    |proj g|=  1.05527D-02\n",
      "\n",
      "At iterate  136    f=  5.34915D-01    |proj g|=  1.47092D-02\n",
      "\n",
      "At iterate  137    f=  5.34270D-01    |proj g|=  1.71545D-02\n",
      "\n",
      "At iterate  138    f=  5.33768D-01    |proj g|=  1.59672D-02\n",
      "\n",
      "At iterate  139    f=  5.33304D-01    |proj g|=  7.89237D-03\n",
      "\n",
      "At iterate  140    f=  5.32798D-01    |proj g|=  1.48819D-02\n",
      "\n",
      "At iterate  141    f=  5.32265D-01    |proj g|=  1.24056D-02\n",
      "\n",
      "At iterate  142    f=  5.31717D-01    |proj g|=  2.70481D-02\n",
      "\n",
      "At iterate  143    f=  5.30796D-01    |proj g|=  1.93791D-02\n",
      "\n",
      "At iterate  144    f=  5.30397D-01    |proj g|=  1.78828D-02\n",
      "\n",
      "At iterate  145    f=  5.30276D-01    |proj g|=  4.40612D-02\n",
      "\n",
      "At iterate  146    f=  5.29955D-01    |proj g|=  6.57364D-03\n",
      "\n",
      "At iterate  147    f=  5.29806D-01    |proj g|=  1.06629D-02\n",
      "\n",
      "At iterate  148    f=  5.29463D-01    |proj g|=  2.41063D-02\n",
      "\n",
      "At iterate  149    f=  5.29031D-01    |proj g|=  2.73867D-02\n",
      "\n",
      "At iterate  150    f=  5.28363D-01    |proj g|=  3.38183D-02\n",
      "\n",
      "At iterate  151    f=  5.28036D-01    |proj g|=  3.41043D-02\n",
      "\n",
      "At iterate  152    f=  5.27536D-01    |proj g|=  9.81498D-03\n",
      "\n",
      "At iterate  153    f=  5.27268D-01    |proj g|=  5.87218D-03\n",
      "\n",
      "At iterate  154    f=  5.26828D-01    |proj g|=  1.14444D-02\n",
      "\n",
      "At iterate  155    f=  5.26150D-01    |proj g|=  3.16718D-02\n",
      "\n",
      "At iterate  156    f=  5.25518D-01    |proj g|=  1.77453D-02\n",
      "\n",
      "At iterate  157    f=  5.25123D-01    |proj g|=  1.60822D-02\n",
      "\n",
      "At iterate  158    f=  5.24737D-01    |proj g|=  1.48232D-02\n",
      "\n",
      "At iterate  159    f=  5.24438D-01    |proj g|=  1.63066D-02\n",
      "\n",
      "At iterate  160    f=  5.23743D-01    |proj g|=  3.30148D-02\n",
      "\n",
      "At iterate  161    f=  5.23437D-01    |proj g|=  7.02921D-03\n",
      "\n",
      "At iterate  162    f=  5.23272D-01    |proj g|=  1.15826D-02\n",
      "\n",
      "At iterate  163    f=  5.22763D-01    |proj g|=  1.59074D-02\n",
      "\n",
      "At iterate  164    f=  5.22038D-01    |proj g|=  1.25217D-02\n",
      "\n",
      "At iterate  165    f=  5.21375D-01    |proj g|=  3.23098D-02\n",
      "\n",
      "At iterate  166    f=  5.20908D-01    |proj g|=  1.12869D-02\n",
      "\n",
      "At iterate  167    f=  5.20672D-01    |proj g|=  7.39033D-03\n",
      "\n",
      "At iterate  168    f=  5.20277D-01    |proj g|=  8.95893D-03\n",
      "\n",
      "At iterate  169    f=  5.20118D-01    |proj g|=  4.55254D-02\n",
      "\n",
      "At iterate  170    f=  5.19578D-01    |proj g|=  1.25654D-02\n",
      "\n",
      "At iterate  171    f=  5.19254D-01    |proj g|=  1.39251D-02\n",
      "\n",
      "At iterate  172    f=  5.18910D-01    |proj g|=  1.97760D-02\n",
      "\n",
      "At iterate  173    f=  5.18386D-01    |proj g|=  3.40796D-02\n",
      "\n",
      "At iterate  174    f=  5.18295D-01    |proj g|=  5.50618D-02\n",
      "\n",
      "At iterate  175    f=  5.17722D-01    |proj g|=  5.36272D-03\n",
      "\n",
      "At iterate  176    f=  5.17578D-01    |proj g|=  6.03668D-03\n",
      "\n",
      "At iterate  177    f=  5.17273D-01    |proj g|=  1.25704D-02\n",
      "\n",
      "At iterate  178    f=  5.16804D-01    |proj g|=  1.53082D-02\n",
      "\n",
      "At iterate  179    f=  5.16538D-01    |proj g|=  2.12128D-02\n",
      "\n",
      "At iterate  180    f=  5.16094D-01    |proj g|=  6.47509D-03\n",
      "\n",
      "At iterate  181    f=  5.15681D-01    |proj g|=  8.73107D-03\n",
      "\n",
      "At iterate  182    f=  5.15306D-01    |proj g|=  1.29078D-02\n",
      "\n",
      "At iterate  183    f=  5.15109D-01    |proj g|=  2.07483D-02\n",
      "\n",
      "At iterate  184    f=  5.14820D-01    |proj g|=  1.28914D-02\n",
      "\n",
      "At iterate  185    f=  5.14390D-01    |proj g|=  7.75023D-03\n",
      "\n",
      "At iterate  186    f=  5.14014D-01    |proj g|=  6.59462D-03\n",
      "\n",
      "At iterate  187    f=  5.13605D-01    |proj g|=  4.29090D-02\n",
      "\n",
      "At iterate  188    f=  5.13283D-01    |proj g|=  1.40623D-02\n",
      "\n",
      "At iterate  189    f=  5.13072D-01    |proj g|=  9.21649D-03\n",
      "\n",
      "At iterate  190    f=  5.12826D-01    |proj g|=  7.75006D-03\n",
      "\n",
      "At iterate  191    f=  5.12530D-01    |proj g|=  9.56536D-03\n",
      "\n",
      "At iterate  192    f=  5.12039D-01    |proj g|=  2.57241D-02\n",
      "\n",
      "At iterate  193    f=  5.11745D-01    |proj g|=  2.59995D-02\n",
      "\n",
      "At iterate  194    f=  5.11357D-01    |proj g|=  6.23427D-03\n",
      "\n",
      "At iterate  195    f=  5.11076D-01    |proj g|=  7.06743D-03\n",
      "\n",
      "At iterate  196    f=  5.10798D-01    |proj g|=  2.47875D-02\n",
      "\n",
      "At iterate  197    f=  5.10456D-01    |proj g|=  1.29409D-02\n",
      "\n",
      "At iterate  198    f=  5.10125D-01    |proj g|=  2.78648D-02\n",
      "\n",
      "At iterate  199    f=  5.09969D-01    |proj g|=  1.15244D-02\n",
      "\n",
      "At iterate  200    f=  5.09870D-01    |proj g|=  1.04925D-02\n",
      "\n",
      "           * * *\n",
      "\n",
      "Tit   = total number of iterations\n",
      "Tnf   = total number of function evaluations\n",
      "Tnint = total number of segments explored during Cauchy searches\n",
      "Skip  = number of BFGS updates skipped\n",
      "Nact  = number of active bounds at final generalized Cauchy point\n",
      "Projg = norm of the final projected gradient\n",
      "F     = final function value\n",
      "\n",
      "           * * *\n",
      "\n",
      "   N    Tit     Tnf  Tnint  Skip  Nact     Projg        F\n",
      " 3199    200    212      1     0     0   1.049D-02   5.099D-01\n",
      "  F =  0.50987004898720101     \n",
      "\n",
      "STOP: TOTAL NO. of ITERATIONS REACHED LIMIT                 \n"
     ]
    },
    {
     "name": "stderr",
     "output_type": "stream",
     "text": [
      "/Users/sara/opt/anaconda3/lib/python3.9/site-packages/sklearn/neural_network/_multilayer_perceptron.py:500: ConvergenceWarning: lbfgs failed to converge (status=1):\n",
      "STOP: TOTAL NO. of ITERATIONS REACHED LIMIT.\n",
      "\n",
      "Increase the number of iterations (max_iter) or scale the data as shown in:\n",
      "    https://scikit-learn.org/stable/modules/preprocessing.html\n",
      "  self.n_iter_ = _check_optimize_result(\"lbfgs\", opt_res, self.max_iter)\n"
     ]
    },
    {
     "data": {
      "text/plain": [
       "MLPClassifier(alpha=1e-05, hidden_layer_sizes=(30, 10), random_state=1,\n",
       "              solver='lbfgs', verbose=True)"
      ]
     },
     "execution_count": 25,
     "metadata": {},
     "output_type": "execute_result"
    }
   ],
   "source": [
    "columns = df.columns[1:-1] # feature column, last column is \"label\"\n",
    "X = df[columns]\n",
    "y = np.ravel(df['target'])\n",
    "# Create Neural Network  classifer object\n",
    "model = MLPClassifier(solver='lbfgs', alpha=1e-5, hidden_layer_sizes = (30, 10), random_state = 1, verbose = True)\n",
    "# Train Neural Network Classifer\n",
    "model.fit(X, y)"
   ]
  },
  {
   "cell_type": "code",
   "execution_count": 26,
   "id": "8184756d",
   "metadata": {},
   "outputs": [
    {
     "data": {
      "text/plain": [
       "array([5, 7, 0, ..., 8, 8, 8], dtype=int8)"
      ]
     },
     "execution_count": 26,
     "metadata": {},
     "output_type": "execute_result"
    }
   ],
   "source": [
    "#Predict the response for test dataset\n",
    "pred = model.predict(X)\n",
    "pred"
   ]
  },
  {
   "cell_type": "code",
   "execution_count": 27,
   "id": "c041eeda",
   "metadata": {},
   "outputs": [
    {
     "data": {
      "text/html": [
       "<div>\n",
       "<style scoped>\n",
       "    .dataframe tbody tr th:only-of-type {\n",
       "        vertical-align: middle;\n",
       "    }\n",
       "\n",
       "    .dataframe tbody tr th {\n",
       "        vertical-align: top;\n",
       "    }\n",
       "\n",
       "    .dataframe thead th {\n",
       "        text-align: right;\n",
       "    }\n",
       "</style>\n",
       "<table border=\"1\" class=\"dataframe\">\n",
       "  <thead>\n",
       "    <tr style=\"text-align: right;\">\n",
       "      <th></th>\n",
       "      <th>0</th>\n",
       "      <th>target</th>\n",
       "    </tr>\n",
       "  </thead>\n",
       "  <tbody>\n",
       "    <tr>\n",
       "      <th>0</th>\n",
       "      <td>1.0</td>\n",
       "      <td>NaN</td>\n",
       "    </tr>\n",
       "    <tr>\n",
       "      <th>1</th>\n",
       "      <td>5.0</td>\n",
       "      <td>NaN</td>\n",
       "    </tr>\n",
       "    <tr>\n",
       "      <th>2</th>\n",
       "      <td>5.0</td>\n",
       "      <td>NaN</td>\n",
       "    </tr>\n",
       "    <tr>\n",
       "      <th>3</th>\n",
       "      <td>5.0</td>\n",
       "      <td>NaN</td>\n",
       "    </tr>\n",
       "    <tr>\n",
       "      <th>4</th>\n",
       "      <td>5.0</td>\n",
       "      <td>NaN</td>\n",
       "    </tr>\n",
       "    <tr>\n",
       "      <th>...</th>\n",
       "      <td>...</td>\n",
       "      <td>...</td>\n",
       "    </tr>\n",
       "    <tr>\n",
       "      <th>16415</th>\n",
       "      <td>NaN</td>\n",
       "      <td>1.0</td>\n",
       "    </tr>\n",
       "    <tr>\n",
       "      <th>57277</th>\n",
       "      <td>NaN</td>\n",
       "      <td>8.0</td>\n",
       "    </tr>\n",
       "    <tr>\n",
       "      <th>45612</th>\n",
       "      <td>NaN</td>\n",
       "      <td>5.0</td>\n",
       "    </tr>\n",
       "    <tr>\n",
       "      <th>34208</th>\n",
       "      <td>NaN</td>\n",
       "      <td>5.0</td>\n",
       "    </tr>\n",
       "    <tr>\n",
       "      <th>44108</th>\n",
       "      <td>NaN</td>\n",
       "      <td>5.0</td>\n",
       "    </tr>\n",
       "  </tbody>\n",
       "</table>\n",
       "<p>22240 rows × 2 columns</p>\n",
       "</div>"
      ],
      "text/plain": [
       "         0  target\n",
       "0      1.0     NaN\n",
       "1      5.0     NaN\n",
       "2      5.0     NaN\n",
       "3      5.0     NaN\n",
       "4      5.0     NaN\n",
       "...    ...     ...\n",
       "16415  NaN     1.0\n",
       "57277  NaN     8.0\n",
       "45612  NaN     5.0\n",
       "34208  NaN     5.0\n",
       "44108  NaN     5.0\n",
       "\n",
       "[22240 rows x 2 columns]"
      ]
     },
     "execution_count": 27,
     "metadata": {},
     "output_type": "execute_result"
    }
   ],
   "source": [
    "df_y_pred = pd.Series(classifier.predict(x_test))\n",
    "pd.concat((df_y_pred,y_test), axis = 1)"
   ]
  },
  {
   "cell_type": "code",
   "execution_count": 28,
   "id": "84ac13a1",
   "metadata": {},
   "outputs": [
    {
     "name": "stdout",
     "output_type": "stream",
     "text": [
      "Confusion Matrix:\n",
      "[[ 143   12    3    0    3   42    9   88   86]\n",
      " [   0 2847  317   27    5    7   11    5    5]\n",
      " [   1  796  749   25    0    0   19    7    4]\n",
      " [   0  222   75  216    2   21    1    1    0]\n",
      " [   1   18    0    0  524    2    1    0    2]\n",
      " [   9   29    3    3    1 2689   24   41   28]\n",
      " [   5   93   37    5    7   46  307   60    8]\n",
      " [  21   13    3    0    1   62    6 1560   27]\n",
      " [  17   17    0    1    2   36    5   38  875]]\n",
      "Accuracy Score:\n"
     ]
    },
    {
     "data": {
      "text/plain": [
       "0.8007433742727861"
      ]
     },
     "execution_count": 28,
     "metadata": {},
     "output_type": "execute_result"
    }
   ],
   "source": [
    "#Show the Confusion Matrix\n",
    "from sklearn.metrics import confusion_matrix, accuracy_score, classification_report\n",
    "cm = confusion_matrix(y_test,df_y_pred)\n",
    "print('Confusion Matrix:')\n",
    "print(cm)\n",
    "print('Accuracy Score:')\n",
    "accuracy_score(y_test,df_y_pred)"
   ]
  },
  {
   "cell_type": "code",
   "execution_count": 29,
   "id": "26cfaff3",
   "metadata": {},
   "outputs": [
    {
     "name": "stdout",
     "output_type": "stream",
     "text": [
      "F1 for Neural Network is:  0.7896154813908827\n"
     ]
    }
   ],
   "source": [
    "#Show the F1 Score\n",
    "from sklearn.metrics import f1_score\n",
    "print('F1 for Neural Network is: ', f1_score(y_test, df_y_pred,average=\"weighted\"))"
   ]
  },
  {
   "cell_type": "code",
   "execution_count": 30,
   "id": "c605a934",
   "metadata": {},
   "outputs": [],
   "source": [
    "df_NN=df_y_pred"
   ]
  },
  {
   "cell_type": "markdown",
   "id": "1c526126",
   "metadata": {},
   "source": [
    "## Naive Bayes"
   ]
  },
  {
   "cell_type": "code",
   "execution_count": 31,
   "id": "2d21ee31",
   "metadata": {},
   "outputs": [
    {
     "data": {
      "text/plain": [
       "GaussianNB()"
      ]
     },
     "execution_count": 31,
     "metadata": {},
     "output_type": "execute_result"
    }
   ],
   "source": [
    "# Import the Navie Bayes classifier\n",
    "from sklearn.naive_bayes import GaussianNB\n",
    "# Create Navie Bayes classifer object\n",
    "classifier = GaussianNB()\n",
    "# Train Navie Bayes Classifer\n",
    "classifier.fit(x_train,y_train)"
   ]
  },
  {
   "cell_type": "code",
   "execution_count": 32,
   "id": "21e61afc",
   "metadata": {},
   "outputs": [
    {
     "data": {
      "text/html": [
       "<div>\n",
       "<style scoped>\n",
       "    .dataframe tbody tr th:only-of-type {\n",
       "        vertical-align: middle;\n",
       "    }\n",
       "\n",
       "    .dataframe tbody tr th {\n",
       "        vertical-align: top;\n",
       "    }\n",
       "\n",
       "    .dataframe thead th {\n",
       "        text-align: right;\n",
       "    }\n",
       "</style>\n",
       "<table border=\"1\" class=\"dataframe\">\n",
       "  <thead>\n",
       "    <tr style=\"text-align: right;\">\n",
       "      <th></th>\n",
       "      <th>0</th>\n",
       "      <th>target</th>\n",
       "    </tr>\n",
       "  </thead>\n",
       "  <tbody>\n",
       "    <tr>\n",
       "      <th>0</th>\n",
       "      <td>4.0</td>\n",
       "      <td>NaN</td>\n",
       "    </tr>\n",
       "    <tr>\n",
       "      <th>1</th>\n",
       "      <td>5.0</td>\n",
       "      <td>NaN</td>\n",
       "    </tr>\n",
       "    <tr>\n",
       "      <th>2</th>\n",
       "      <td>5.0</td>\n",
       "      <td>NaN</td>\n",
       "    </tr>\n",
       "    <tr>\n",
       "      <th>3</th>\n",
       "      <td>8.0</td>\n",
       "      <td>NaN</td>\n",
       "    </tr>\n",
       "    <tr>\n",
       "      <th>4</th>\n",
       "      <td>5.0</td>\n",
       "      <td>NaN</td>\n",
       "    </tr>\n",
       "    <tr>\n",
       "      <th>...</th>\n",
       "      <td>...</td>\n",
       "      <td>...</td>\n",
       "    </tr>\n",
       "    <tr>\n",
       "      <th>16415</th>\n",
       "      <td>NaN</td>\n",
       "      <td>1.0</td>\n",
       "    </tr>\n",
       "    <tr>\n",
       "      <th>57277</th>\n",
       "      <td>NaN</td>\n",
       "      <td>8.0</td>\n",
       "    </tr>\n",
       "    <tr>\n",
       "      <th>45612</th>\n",
       "      <td>NaN</td>\n",
       "      <td>5.0</td>\n",
       "    </tr>\n",
       "    <tr>\n",
       "      <th>34208</th>\n",
       "      <td>NaN</td>\n",
       "      <td>5.0</td>\n",
       "    </tr>\n",
       "    <tr>\n",
       "      <th>44108</th>\n",
       "      <td>NaN</td>\n",
       "      <td>5.0</td>\n",
       "    </tr>\n",
       "  </tbody>\n",
       "</table>\n",
       "<p>22240 rows × 2 columns</p>\n",
       "</div>"
      ],
      "text/plain": [
       "         0  target\n",
       "0      4.0     NaN\n",
       "1      5.0     NaN\n",
       "2      5.0     NaN\n",
       "3      8.0     NaN\n",
       "4      5.0     NaN\n",
       "...    ...     ...\n",
       "16415  NaN     1.0\n",
       "57277  NaN     8.0\n",
       "45612  NaN     5.0\n",
       "34208  NaN     5.0\n",
       "44108  NaN     5.0\n",
       "\n",
       "[22240 rows x 2 columns]"
      ]
     },
     "execution_count": 32,
     "metadata": {},
     "output_type": "execute_result"
    }
   ],
   "source": [
    "#Predict the response for test dataset\n",
    "df_y_pred = pd.Series(classifier.predict(x_test))\n",
    "pd.concat((df_y_pred,y_test), axis=1)"
   ]
  },
  {
   "cell_type": "code",
   "execution_count": 33,
   "id": "61706716",
   "metadata": {},
   "outputs": [
    {
     "name": "stdout",
     "output_type": "stream",
     "text": [
      "Confusion Matrix:\n",
      "[[ 113   26   16   15   29   13   23   13  138]\n",
      " [   3 2102  328  406  285    5   54   21   20]\n",
      " [   1  727  404  282  111    1   59   10    6]\n",
      " [   0  166   22  278   46    6   11    0    9]\n",
      " [   0   23    2    5  512    2    2    0    2]\n",
      " [  67   36   54  157   35 2203   90   33  152]\n",
      " [  29   55   64   59   24   25  283   16   13]\n",
      " [ 304   15   22    9   19   56  137  896  235]\n",
      " [  39   27   17   20   62   21    6   13  786]]\n",
      "Accuracy Score:\n"
     ]
    },
    {
     "data": {
      "text/plain": [
       "0.6122333548804137"
      ]
     },
     "execution_count": 33,
     "metadata": {},
     "output_type": "execute_result"
    }
   ],
   "source": [
    "#Show the Confusion Matrix\n",
    "from sklearn.metrics import confusion_matrix, accuracy_score, classification_report\n",
    "cm = confusion_matrix(y_test,df_y_pred)\n",
    "print('Confusion Matrix:')\n",
    "print(cm)\n",
    "print('Accuracy Score:')\n",
    "accuracy_score(y_test,df_y_pred)"
   ]
  },
  {
   "cell_type": "code",
   "execution_count": 34,
   "id": "71d9732b",
   "metadata": {},
   "outputs": [
    {
     "name": "stdout",
     "output_type": "stream",
     "text": [
      "F1 for Navie Bayes is:  0.6213203089552608\n"
     ]
    }
   ],
   "source": [
    "#Show the F1 Score\n",
    "from sklearn.metrics import f1_score\n",
    "print('F1 for Navie Bayes is: ', f1_score(y_test, df_y_pred,average=\"weighted\"))"
   ]
  },
  {
   "cell_type": "code",
   "execution_count": 35,
   "id": "d35e2504",
   "metadata": {},
   "outputs": [],
   "source": [
    "df_NB=df_y_pred"
   ]
  },
  {
   "cell_type": "markdown",
   "id": "db49bfdc",
   "metadata": {},
   "source": [
    "## AdaBoost"
   ]
  },
  {
   "cell_type": "code",
   "execution_count": 36,
   "id": "86a95aa1",
   "metadata": {},
   "outputs": [],
   "source": [
    "# Import the AdaBoost classifier\n",
    "from sklearn.ensemble import AdaBoostClassifier\n",
    "# Create adaboost classifer object\n",
    "abc = AdaBoostClassifier(n_estimators=80, learning_rate=0.35, random_state=0)\n",
    "# Train Adaboost Classifer\n",
    "model1 = abc.fit(x_train, y_train)\n",
    "#Predict the response for test dataset\n",
    "y_pred = model1.predict(x_test)"
   ]
  },
  {
   "cell_type": "code",
   "execution_count": 37,
   "id": "552ccd11",
   "metadata": {},
   "outputs": [
    {
     "name": "stdout",
     "output_type": "stream",
     "text": [
      "Confusion Matrix:\n",
      "[[ 113   26   16   15   29   13   23   13  138]\n",
      " [   3 2102  328  406  285    5   54   21   20]\n",
      " [   1  727  404  282  111    1   59   10    6]\n",
      " [   0  166   22  278   46    6   11    0    9]\n",
      " [   0   23    2    5  512    2    2    0    2]\n",
      " [  67   36   54  157   35 2203   90   33  152]\n",
      " [  29   55   64   59   24   25  283   16   13]\n",
      " [ 304   15   22    9   19   56  137  896  235]\n",
      " [  39   27   17   20   62   21    6   13  786]]\n",
      "Accuracy Score:\n"
     ]
    },
    {
     "data": {
      "text/plain": [
       "0.6122333548804137"
      ]
     },
     "execution_count": 37,
     "metadata": {},
     "output_type": "execute_result"
    }
   ],
   "source": [
    "#Show the Confusion Matrix \n",
    "from sklearn.metrics import confusion_matrix, accuracy_score, classification_report\n",
    "cm = confusion_matrix(y_test, df_y_pred)\n",
    "print('Confusion Matrix:')\n",
    "print(cm)\n",
    "print('Accuracy Score:')\n",
    "accuracy_score(y_test,df_y_pred)\n"
   ]
  },
  {
   "cell_type": "code",
   "execution_count": 38,
   "id": "b4309dd8",
   "metadata": {},
   "outputs": [
    {
     "name": "stdout",
     "output_type": "stream",
     "text": [
      "F1 for AdaBoost is:  0.6213203089552608\n"
     ]
    }
   ],
   "source": [
    "#Show the F1 Score\n",
    "from sklearn.metrics import f1_score\n",
    "print('F1 for AdaBoost is: ', f1_score(y_test, df_y_pred,average=\"weighted\"))"
   ]
  },
  {
   "cell_type": "code",
   "execution_count": 39,
   "id": "b7beca48",
   "metadata": {},
   "outputs": [],
   "source": [
    "df_Ada=df_y_pred"
   ]
  },
  {
   "cell_type": "markdown",
   "id": "4d3c9351",
   "metadata": {},
   "source": [
    "## Linear SVM"
   ]
  },
  {
   "cell_type": "code",
   "execution_count": 40,
   "id": "a2194177",
   "metadata": {},
   "outputs": [
    {
     "data": {
      "text/plain": [
       "SVC(probability=True, random_state=2)"
      ]
     },
     "execution_count": 40,
     "metadata": {},
     "output_type": "execute_result"
    }
   ],
   "source": [
    "# Import the SVC classifier\n",
    "from sklearn.svm import SVC\n",
    "# Create SVC classifer object\n",
    "classifier = SVC(kernel = 'rbf', probability = True, random_state = 2)\n",
    "# Train SVC Classifer\n",
    "classifier.fit(x_train,y_train)"
   ]
  },
  {
   "cell_type": "code",
   "execution_count": 41,
   "id": "9912b35e",
   "metadata": {},
   "outputs": [
    {
     "data": {
      "text/html": [
       "<div>\n",
       "<style scoped>\n",
       "    .dataframe tbody tr th:only-of-type {\n",
       "        vertical-align: middle;\n",
       "    }\n",
       "\n",
       "    .dataframe tbody tr th {\n",
       "        vertical-align: top;\n",
       "    }\n",
       "\n",
       "    .dataframe thead th {\n",
       "        text-align: right;\n",
       "    }\n",
       "</style>\n",
       "<table border=\"1\" class=\"dataframe\">\n",
       "  <thead>\n",
       "    <tr style=\"text-align: right;\">\n",
       "      <th></th>\n",
       "      <th>0</th>\n",
       "      <th>target</th>\n",
       "    </tr>\n",
       "  </thead>\n",
       "  <tbody>\n",
       "    <tr>\n",
       "      <th>0</th>\n",
       "      <td>1.0</td>\n",
       "      <td>NaN</td>\n",
       "    </tr>\n",
       "    <tr>\n",
       "      <th>1</th>\n",
       "      <td>5.0</td>\n",
       "      <td>NaN</td>\n",
       "    </tr>\n",
       "    <tr>\n",
       "      <th>2</th>\n",
       "      <td>5.0</td>\n",
       "      <td>NaN</td>\n",
       "    </tr>\n",
       "    <tr>\n",
       "      <th>3</th>\n",
       "      <td>0.0</td>\n",
       "      <td>NaN</td>\n",
       "    </tr>\n",
       "    <tr>\n",
       "      <th>4</th>\n",
       "      <td>5.0</td>\n",
       "      <td>NaN</td>\n",
       "    </tr>\n",
       "    <tr>\n",
       "      <th>...</th>\n",
       "      <td>...</td>\n",
       "      <td>...</td>\n",
       "    </tr>\n",
       "    <tr>\n",
       "      <th>16415</th>\n",
       "      <td>NaN</td>\n",
       "      <td>1.0</td>\n",
       "    </tr>\n",
       "    <tr>\n",
       "      <th>57277</th>\n",
       "      <td>NaN</td>\n",
       "      <td>8.0</td>\n",
       "    </tr>\n",
       "    <tr>\n",
       "      <th>45612</th>\n",
       "      <td>NaN</td>\n",
       "      <td>5.0</td>\n",
       "    </tr>\n",
       "    <tr>\n",
       "      <th>34208</th>\n",
       "      <td>NaN</td>\n",
       "      <td>5.0</td>\n",
       "    </tr>\n",
       "    <tr>\n",
       "      <th>44108</th>\n",
       "      <td>NaN</td>\n",
       "      <td>5.0</td>\n",
       "    </tr>\n",
       "  </tbody>\n",
       "</table>\n",
       "<p>22240 rows × 2 columns</p>\n",
       "</div>"
      ],
      "text/plain": [
       "         0  target\n",
       "0      1.0     NaN\n",
       "1      5.0     NaN\n",
       "2      5.0     NaN\n",
       "3      0.0     NaN\n",
       "4      5.0     NaN\n",
       "...    ...     ...\n",
       "16415  NaN     1.0\n",
       "57277  NaN     8.0\n",
       "45612  NaN     5.0\n",
       "34208  NaN     5.0\n",
       "44108  NaN     5.0\n",
       "\n",
       "[22240 rows x 2 columns]"
      ]
     },
     "execution_count": 41,
     "metadata": {},
     "output_type": "execute_result"
    }
   ],
   "source": [
    "#Predict the response for test dataset\n",
    "df_y_pred = pd.Series(classifier.predict(x_test))\n",
    "pd.concat((df_y_pred,y_test),axis = 1)"
   ]
  },
  {
   "cell_type": "code",
   "execution_count": 42,
   "id": "c72721d8",
   "metadata": {},
   "outputs": [
    {
     "name": "stdout",
     "output_type": "stream",
     "text": [
      "Confusion Matrix:\n",
      "[[ 177   15    0    0    3   34    7   68   82]\n",
      " [   2 2957  226    9    6    5   11    3    5]\n",
      " [   1 1094  450   11    0    1   35    6    3]\n",
      " [   0  309   42  153    2   23    7    1    1]\n",
      " [   0   29    1    0  518    0    0    0    0]\n",
      " [  13   30    0    6    1 2641   31   56   49]\n",
      " [  16   84   29    1    3   34  367   32    2]\n",
      " [  26   23    3    0    0   26   14 1574   27]\n",
      " [  19   15    1    0    1   22    3   47  883]]\n",
      "Accuracy Score:\n"
     ]
    }
   ],
   "source": [
    "#Show the Confusion Matrix \n",
    "from sklearn.metrics import confusion_matrix, accuracy_score, classification_report\n",
    "cm = confusion_matrix(y_test, df_y_pred)\n",
    "print('Confusion Matrix:')\n",
    "print(cm)\n",
    "print('Accuracy Score:')\n",
    "accuracy_score(y_test,df_y_pred)\n",
    "df_svm=df_y_pred"
   ]
  },
  {
   "cell_type": "code",
   "execution_count": 43,
   "id": "46bc0bcd",
   "metadata": {},
   "outputs": [
    {
     "name": "stdout",
     "output_type": "stream",
     "text": [
      "F1 for SVM linear is:  0.7658964332997207\n"
     ]
    }
   ],
   "source": [
    "#Show the F1 Score\n",
    "from sklearn.metrics import f1_score\n",
    "print('F1 for SVM linear is: ', f1_score(y_test, df_y_pred,average=\"weighted\"))"
   ]
  },
  {
   "cell_type": "code",
   "execution_count": 44,
   "id": "4c9a9d8d",
   "metadata": {},
   "outputs": [],
   "source": [
    "df_svm=df_y_pred"
   ]
  },
  {
   "cell_type": "markdown",
   "id": "463d9f30",
   "metadata": {},
   "source": [
    "2.3 Performance Comparison: 5 points\n",
    "To evaluate the performance of different methods, please compute the F1 measure of each algorithm under its optimal\n",
    "setting, and conclude which method works best in your experiment. In addition, to identify the similarities between different\n",
    "algorithms, you are expected to visualize the pair-wise correlations with a heatmap. You are free to import the seaborn\n",
    "package for illustrating the table, and a sample code of using the package can be found online 2.\n",
    "Hint: Use the predicted results of the test dataset to formulate a vector for each algorithm, and then analyze the correlations\n",
    "among different prediction vectors.\n",
    "2https://seaborn.pydata.org/examples/heatmap annotation.html\n",
    "3"
   ]
  },
  {
   "cell_type": "markdown",
   "id": "6f7c12cf",
   "metadata": {},
   "source": [
    "## Random Forest  with the F1 of about 78.96% is the best one and the least one is for Navie Bayes with F1= 62% ."
   ]
  },
  {
   "cell_type": "markdown",
   "id": "fc93dffd",
   "metadata": {},
   "source": [
    "## creating a dataframe of the y_pred of each classifier"
   ]
  },
  {
   "cell_type": "code",
   "execution_count": 45,
   "id": "40068495",
   "metadata": {},
   "outputs": [
    {
     "data": {
      "text/html": [
       "<div>\n",
       "<style scoped>\n",
       "    .dataframe tbody tr th:only-of-type {\n",
       "        vertical-align: middle;\n",
       "    }\n",
       "\n",
       "    .dataframe tbody tr th {\n",
       "        vertical-align: top;\n",
       "    }\n",
       "\n",
       "    .dataframe thead th {\n",
       "        text-align: right;\n",
       "    }\n",
       "</style>\n",
       "<table border=\"1\" class=\"dataframe\">\n",
       "  <thead>\n",
       "    <tr style=\"text-align: right;\">\n",
       "      <th></th>\n",
       "      <th>KNN</th>\n",
       "      <th>Linear Regression</th>\n",
       "      <th>Random forest</th>\n",
       "      <th>Nneural network</th>\n",
       "      <th>Naive Bayes</th>\n",
       "      <th>Adaboost</th>\n",
       "      <th>SVM</th>\n",
       "    </tr>\n",
       "  </thead>\n",
       "  <tbody>\n",
       "    <tr>\n",
       "      <th>0</th>\n",
       "      <td>1</td>\n",
       "      <td>1</td>\n",
       "      <td>1</td>\n",
       "      <td>1</td>\n",
       "      <td>4</td>\n",
       "      <td>4</td>\n",
       "      <td>1</td>\n",
       "    </tr>\n",
       "    <tr>\n",
       "      <th>1</th>\n",
       "      <td>5</td>\n",
       "      <td>5</td>\n",
       "      <td>5</td>\n",
       "      <td>5</td>\n",
       "      <td>5</td>\n",
       "      <td>5</td>\n",
       "      <td>5</td>\n",
       "    </tr>\n",
       "    <tr>\n",
       "      <th>2</th>\n",
       "      <td>5</td>\n",
       "      <td>5</td>\n",
       "      <td>5</td>\n",
       "      <td>5</td>\n",
       "      <td>5</td>\n",
       "      <td>5</td>\n",
       "      <td>5</td>\n",
       "    </tr>\n",
       "    <tr>\n",
       "      <th>3</th>\n",
       "      <td>0</td>\n",
       "      <td>5</td>\n",
       "      <td>5</td>\n",
       "      <td>5</td>\n",
       "      <td>8</td>\n",
       "      <td>8</td>\n",
       "      <td>0</td>\n",
       "    </tr>\n",
       "    <tr>\n",
       "      <th>4</th>\n",
       "      <td>5</td>\n",
       "      <td>5</td>\n",
       "      <td>5</td>\n",
       "      <td>5</td>\n",
       "      <td>5</td>\n",
       "      <td>5</td>\n",
       "      <td>5</td>\n",
       "    </tr>\n",
       "    <tr>\n",
       "      <th>...</th>\n",
       "      <td>...</td>\n",
       "      <td>...</td>\n",
       "      <td>...</td>\n",
       "      <td>...</td>\n",
       "      <td>...</td>\n",
       "      <td>...</td>\n",
       "      <td>...</td>\n",
       "    </tr>\n",
       "    <tr>\n",
       "      <th>12371</th>\n",
       "      <td>1</td>\n",
       "      <td>1</td>\n",
       "      <td>1</td>\n",
       "      <td>1</td>\n",
       "      <td>1</td>\n",
       "      <td>1</td>\n",
       "      <td>1</td>\n",
       "    </tr>\n",
       "    <tr>\n",
       "      <th>12372</th>\n",
       "      <td>8</td>\n",
       "      <td>8</td>\n",
       "      <td>8</td>\n",
       "      <td>8</td>\n",
       "      <td>0</td>\n",
       "      <td>0</td>\n",
       "      <td>8</td>\n",
       "    </tr>\n",
       "    <tr>\n",
       "      <th>12373</th>\n",
       "      <td>5</td>\n",
       "      <td>5</td>\n",
       "      <td>5</td>\n",
       "      <td>5</td>\n",
       "      <td>5</td>\n",
       "      <td>5</td>\n",
       "      <td>5</td>\n",
       "    </tr>\n",
       "    <tr>\n",
       "      <th>12374</th>\n",
       "      <td>7</td>\n",
       "      <td>7</td>\n",
       "      <td>7</td>\n",
       "      <td>7</td>\n",
       "      <td>8</td>\n",
       "      <td>8</td>\n",
       "      <td>7</td>\n",
       "    </tr>\n",
       "    <tr>\n",
       "      <th>12375</th>\n",
       "      <td>5</td>\n",
       "      <td>5</td>\n",
       "      <td>5</td>\n",
       "      <td>5</td>\n",
       "      <td>5</td>\n",
       "      <td>5</td>\n",
       "      <td>5</td>\n",
       "    </tr>\n",
       "  </tbody>\n",
       "</table>\n",
       "<p>12376 rows × 7 columns</p>\n",
       "</div>"
      ],
      "text/plain": [
       "       KNN  Linear Regression  Random forest  Nneural network  Naive Bayes  \\\n",
       "0        1                  1              1                1            4   \n",
       "1        5                  5              5                5            5   \n",
       "2        5                  5              5                5            5   \n",
       "3        0                  5              5                5            8   \n",
       "4        5                  5              5                5            5   \n",
       "...    ...                ...            ...              ...          ...   \n",
       "12371    1                  1              1                1            1   \n",
       "12372    8                  8              8                8            0   \n",
       "12373    5                  5              5                5            5   \n",
       "12374    7                  7              7                7            8   \n",
       "12375    5                  5              5                5            5   \n",
       "\n",
       "       Adaboost  SVM  \n",
       "0             4    1  \n",
       "1             5    5  \n",
       "2             5    5  \n",
       "3             8    0  \n",
       "4             5    5  \n",
       "...         ...  ...  \n",
       "12371         1    1  \n",
       "12372         0    8  \n",
       "12373         5    5  \n",
       "12374         8    7  \n",
       "12375         5    5  \n",
       "\n",
       "[12376 rows x 7 columns]"
      ]
     },
     "execution_count": 45,
     "metadata": {},
     "output_type": "execute_result"
    }
   ],
   "source": [
    "\n",
    "import seaborn as sns\n",
    "import matplotlib.pyplot as plt\n",
    "   \n",
    "df = {'KNN': df_KNN, 'Linear Regression': df_LR, 'Random forest':df_RF,'Nneural network':df_NN,'Naive Bayes':df_NB,'Adaboost':df_Ada,'SVM':df_svm}\n",
    "d = pd.DataFrame(data=df)\n",
    "d\n",
    "\n"
   ]
  },
  {
   "cell_type": "markdown",
   "id": "f5fd64fd",
   "metadata": {},
   "source": [
    "## show the heatmap for all classifiers"
   ]
  },
  {
   "cell_type": "code",
   "execution_count": 46,
   "id": "f9694fee",
   "metadata": {},
   "outputs": [
    {
     "data": {
      "text/plain": [
       "<AxesSubplot:>"
      ]
     },
     "execution_count": 46,
     "metadata": {},
     "output_type": "execute_result"
    },
    {
     "data": {
      "image/png": "[encoded data removed]",
      "text/plain": [
       "<Figure size 432x288 with 2 Axes>"
      ]
     },
     "metadata": {
      "needs_background": "light"
     },
     "output_type": "display_data"
    }
   ],
   "source": [
    "\n",
    "import seaborn as sns\n",
    "import pandas as pd\n",
    "import numpy as np\n",
    "\n",
    "corr = d.corr()\n",
    "p1= sns.heatmap(corr, xticklabels=corr.columns, yticklabels=corr.columns,linewidth=0.5,cmap=\"Purples\")\n",
    "\n",
    "p1"
   ]
  },
  {
   "cell_type": "code",
   "execution_count": null,
   "id": "dbc17b31",
   "metadata": {},
   "outputs": [],
   "source": []
  },
  {
   "cell_type": "code",
   "execution_count": null,
   "id": "c9383998",
   "metadata": {},
   "outputs": [],
   "source": []
  }
 ],
 "metadata": {
  "kernelspec": {
   "display_name": "Python 3 (ipykernel)",
   "language": "python",
   "name": "python3"
  },
  "language_info": {
   "codemirror_mode": {
    "name": "ipython",
    "version": 3
   },
   "file_extension": ".py",
   "mimetype": "text/x-python",
   "name": "python",
   "nbconvert_exporter": "python",
   "pygments_lexer": "ipython3",
   "version": "3.9.7"
  }
 },
 "nbformat": 4,
 "nbformat_minor": 5
}
